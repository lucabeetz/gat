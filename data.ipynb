{
 "cells": [
  {
   "cell_type": "code",
   "execution_count": 1,
   "metadata": {},
   "outputs": [
    {
     "name": "stderr",
     "output_type": "stream",
     "text": [
      "/Users/luca/.miniconda3/envs/gat/lib/python3.10/site-packages/tqdm/auto.py:22: TqdmWarning: IProgress not found. Please update jupyter and ipywidgets. See https://ipywidgets.readthedocs.io/en/stable/user_install.html\n",
      "  from .autonotebook import tqdm as notebook_tqdm\n"
     ]
    }
   ],
   "source": [
    "import jax.numpy as jnp\n",
    "import torch_geometric as tg\n",
    "from torch_geometric.datasets import Planetoid"
   ]
  },
  {
   "cell_type": "code",
   "execution_count": 2,
   "metadata": {},
   "outputs": [],
   "source": [
    "cora_dataset = Planetoid(root='data', name='Cora')\n",
    "data = cora_dataset[0]"
   ]
  },
  {
   "cell_type": "code",
   "execution_count": 3,
   "metadata": {},
   "outputs": [],
   "source": [
    "node_features = jnp.array(data.x)\n",
    "edge_index = jnp.array(data.edge_index)\n",
    "node_labels = jnp.array(data.y)\n",
    "\n",
    "adjacency_matrix = jnp.array(tg.utils.to_dense_adj(data.edge_index).squeeze())"
   ]
  },
  {
   "cell_type": "code",
   "execution_count": 4,
   "metadata": {},
   "outputs": [
    {
     "name": "stdout",
     "output_type": "stream",
     "text": [
      "Num nodes: 2708\n",
      "Feature dimension: 1433\n",
      "Num edges: 10556\n",
      "Shape adjacency matrix: (2708, 2708)\n"
     ]
    }
   ],
   "source": [
    "print(f'Num nodes: {node_features.shape[0]}')\n",
    "print(f'Feature dimension: {node_features.shape[1]}')\n",
    "print(f'Num edges: {edge_index.shape[1]}')\n",
    "print(f'Shape adjacency matrix: {adjacency_matrix.shape}')\n"
   ]
  },
  {
   "cell_type": "code",
   "execution_count": 5,
   "metadata": {},
   "outputs": [
    {
     "data": {
      "text/plain": [
       "DeviceArray(0., dtype=float32)"
      ]
     },
     "execution_count": 5,
     "metadata": {},
     "output_type": "execute_result"
    }
   ],
   "source": [
    "adjacency_matrix[0, 0]"
   ]
  },
  {
   "cell_type": "code",
   "execution_count": 6,
   "metadata": {},
   "outputs": [
    {
     "data": {
      "text/plain": [
       "(2708, 2708)"
      ]
     },
     "execution_count": 6,
     "metadata": {},
     "output_type": "execute_result"
    }
   ],
   "source": [
    "adj_matrix = jnp.array(tg.utils.to_dense_adj(data.edge_index).squeeze())\n",
    "adj_matrix = adj_matrix + jnp.identity(len(adj_matrix))\n",
    "connectivity_mask = (adj_matrix == 0) * -jnp.inf\n",
    "\n",
    "connectivity_mask.shape"
   ]
  },
  {
   "cell_type": "code",
   "execution_count": 24,
   "metadata": {},
   "outputs": [],
   "source": [
    "nodes_features_sum = node_features.sum(-1)\n",
    "nodes_features_sum_inv = jnp.power(nodes_features_sum, -1)\n",
    "diagonal_sum_inv = jnp.diag(nodes_features_sum_inv)\n",
    "nodes_features_normalized = diagonal_sum_inv.dot(node_features)"
   ]
  },
  {
   "cell_type": "code",
   "execution_count": 27,
   "metadata": {},
   "outputs": [
    {
     "data": {
      "text/plain": [
       "DeviceArray([1.       , 1.       , 1.0000001, ..., 1.0000001, 1.0000001,\n",
       "             1.       ], dtype=float32)"
      ]
     },
     "execution_count": 27,
     "metadata": {},
     "output_type": "execute_result"
    }
   ],
   "source": [
    "nodes_features_normalized.sum(1)"
   ]
  },
  {
   "cell_type": "code",
   "execution_count": null,
   "metadata": {},
   "outputs": [],
   "source": []
  }
 ],
 "metadata": {
  "kernelspec": {
   "display_name": "Python 3.10.4 ('gat')",
   "language": "python",
   "name": "python3"
  },
  "language_info": {
   "codemirror_mode": {
    "name": "ipython",
    "version": 3
   },
   "file_extension": ".py",
   "mimetype": "text/x-python",
   "name": "python",
   "nbconvert_exporter": "python",
   "pygments_lexer": "ipython3",
   "version": "3.10.4"
  },
  "orig_nbformat": 4,
  "vscode": {
   "interpreter": {
    "hash": "2911b54144ede50fd3c0f7a83274a64649a49893b9a153ef08a95230ead62f07"
   }
  }
 },
 "nbformat": 4,
 "nbformat_minor": 2
}
